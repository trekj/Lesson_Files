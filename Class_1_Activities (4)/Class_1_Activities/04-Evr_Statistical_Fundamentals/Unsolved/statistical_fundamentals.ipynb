{
 "cells": [
  {
   "cell_type": "markdown",
   "metadata": {},
   "source": [
    "# Statisticals Fundamentals\n",
    "\n",
    "In this activity, students will code along with the instructor to get the opportunity to practice using statistical fundamentals to create a report for a group of stocks. The report will give a recommendation for each stock on whether it is over or under valued and more or less volatile than the market."
   ]
  },
  {
   "cell_type": "markdown",
   "metadata": {},
   "source": [
    "## Importing Required Modules"
   ]
  },
  {
   "cell_type": "code",
   "execution_count": null,
   "metadata": {},
   "outputs": [],
   "source": [
    "# Import modules\n",
    "import pandas as pd\n",
    "from pathlib import Path\n",
    "import matplotlib.pyplot as plt"
   ]
  },
  {
   "cell_type": "markdown",
   "metadata": {},
   "source": [
    "## Loading the Stocks Data\n",
    "\n",
    "  - Each CVS file contains a stock's closing price and the date of the closing price.\n",
    "\n",
    "  - Create a `Path` object for each CSV filepath."
   ]
  },
  {
   "cell_type": "code",
   "execution_count": null,
   "metadata": {},
   "outputs": [],
   "source": [
    "# Set paths to CSV files\n",
    "hd_csv_path = Path(\"../Resources/HD.csv\")\n",
    "intc_csv_path = Path(\"../Resources/INTC.csv\")\n",
    "mu_csv_path = Path(\"../Resources/MU.csv\")\n",
    "nvda_csv_path = Path(\"../Resources/NVDA.csv\")\n",
    "tsla_csv_path = Path(\"../Resources/TSLA.csv\")\n",
    "sp500_path = Path(\"../Resources/sp500.csv\")"
   ]
  },
  {
   "cell_type": "markdown",
   "metadata": {},
   "source": [
    "For each CSV file read the data into a `pandas` `DataFrame`.\n",
    "\n",
    "  - Set the index column to be the date.\n",
    "\n",
    "  - Infer the date time format.\n",
    "\n",
    "  - Parse all dates when the CSV file is loaded."
   ]
  },
  {
   "cell_type": "code",
   "execution_count": null,
   "metadata": {},
   "outputs": [],
   "source": [
    "# Read in CSV files\n"
   ]
  },
  {
   "cell_type": "markdown",
   "metadata": {},
   "source": [
    "## Coding Statistical Measures in Python\n",
    "\n",
    "### Create a function named `calculate_mean`\n",
    "\n",
    "   - Calculate mean should return the average value for a given `list` or `Series`.\n",
    "\n",
    "   - $\\mu = \\frac{\\sum{x_{i}}}{n}$\n",
    "\n",
    "   - Choose a function name that will not conflict with any modules that may have been imported."
   ]
  },
  {
   "cell_type": "code",
   "execution_count": null,
   "metadata": {},
   "outputs": [],
   "source": [
    "# Create a function named 'calculate_mean'.\n",
    "def calculate_mean(data_set):\n",
    "    "
   ]
  },
  {
   "cell_type": "code",
   "execution_count": null,
   "metadata": {},
   "outputs": [],
   "source": [
    "# Test the `calculate_mean` function\n",
    "data = [1, 2, 3, 4, 5]\n",
    "print(calculate_mean(data))"
   ]
  },
  {
   "cell_type": "markdown",
   "metadata": {},
   "source": [
    "### Create a function named `calculate_variance`\n",
    "   - Variance is the squared average change around the mean.\n",
    "\n",
    "   - ${S}^2 = \\frac{\\sum{ (x_{i} - \\mu })^{2}}{ n - 1}$\n"
   ]
  },
  {
   "cell_type": "code",
   "execution_count": null,
   "metadata": {},
   "outputs": [],
   "source": [
    "# Create a function named 'calculate_variance'.\n",
    "def calculate_variance(data_set):\n",
    "    "
   ]
  },
  {
   "cell_type": "code",
   "execution_count": null,
   "metadata": {},
   "outputs": [],
   "source": [
    "# Test the `calculate_variance` function\n",
    "data = [1, 2, 3, 4, 5]\n",
    "print(calculate_variance(data))"
   ]
  },
  {
   "cell_type": "markdown",
   "metadata": {},
   "source": [
    "### Create a function named `calculate_standard_deviation`\n",
    "\n",
    " - The standard deviation is the square root of the variance.\n",
    "\n",
    " - $\\sigma = \\sqrt{S^{2}}$"
   ]
  },
  {
   "cell_type": "code",
   "execution_count": null,
   "metadata": {},
   "outputs": [],
   "source": [
    "# Create a function named 'calculate_standard_deviation'.\n",
    "def calculate_standard_deviation(data_set):\n",
    "    "
   ]
  },
  {
   "cell_type": "code",
   "execution_count": null,
   "metadata": {},
   "outputs": [],
   "source": [
    "# Test the `calculate_standard_deviation` function\n",
    "data = [1, 2, 3, 4, 5]\n",
    "print(calculate_standard_deviation(data))"
   ]
  },
  {
   "cell_type": "markdown",
   "metadata": {},
   "source": [
    "## Coding Helper Functions\n",
    "\n",
    "### Create a function named `check_value`\n",
    "\n",
    "   - The function should compare the most recent price of the asset to it's mean price.\n",
    "\n",
    "   - If the most recent price is greater than the mean price the asset is over-valued.\n",
    "\n",
    "   - If the most recent price is under than the mean price the asset is under-valued.\n",
    "\n",
    "   - If neither case is true then the most recent price must be at the mean price."
   ]
  },
  {
   "cell_type": "code",
   "execution_count": null,
   "metadata": {},
   "outputs": [],
   "source": [
    "# Create a function to check to most recent price against the mean price to determine if the stock is overvalued.\n",
    "def check_value(current_price, mean_price):\n",
    "    "
   ]
  },
  {
   "cell_type": "markdown",
   "metadata": {},
   "source": [
    "### Create a function named `compare_volatility`\n",
    "   \n",
    "   - The function should compare the standard deviation of an assets price change percentage to a market's.\n",
    "\n",
    "   - If the asset's standard deviation is greater than the market's the stock is more volatile otherwise it's less volatile."
   ]
  },
  {
   "cell_type": "code",
   "execution_count": null,
   "metadata": {},
   "outputs": [],
   "source": [
    "# Create a function to compare the volatility with the underlying market\n",
    "def compare_volatility(stock_std, market_std):\n",
    "    "
   ]
  },
  {
   "cell_type": "markdown",
   "metadata": {},
   "source": [
    "## Coding the Stocks Report\n",
    "\n",
    "### Calculate the Daily Percent Change for the SP500"
   ]
  },
  {
   "cell_type": "code",
   "execution_count": null,
   "metadata": {},
   "outputs": [],
   "source": [
    "# Calculate the daily percent changes for sp500 and drop n/a values\n"
   ]
  },
  {
   "cell_type": "markdown",
   "metadata": {},
   "source": [
    "## Calculate the Standard Deviation for the SP500"
   ]
  },
  {
   "cell_type": "code",
   "execution_count": null,
   "metadata": {},
   "outputs": [],
   "source": [
    "# Calculate the standard deviation for the sp500\n"
   ]
  },
  {
   "cell_type": "markdown",
   "metadata": {},
   "source": [
    "### Create a Python Dictionary of Stocks to Run the Report On\n",
    "   \n",
    "   - Map each stock name to it's dataframe\n",
    "\n",
    "   - Do not include the SP500\n",
    "\n",
    "   - Example: stocks_to_check = {\"stock_name\" : stock_df}"
   ]
  },
  {
   "cell_type": "code",
   "execution_count": null,
   "metadata": {},
   "outputs": [],
   "source": [
    "# Create a dictionary for all stocks except the sp500\n"
   ]
  },
  {
   "cell_type": "markdown",
   "metadata": {},
   "source": [
    "### Generate the Report\n",
    "\n",
    "  - Loop through the dictionary of stocks.\n",
    "\n",
    "  - **Hint**: Use the `items()` method for dictionaries. You can read more on the [documentation page](https://docs.python.org/3/tutorial/datastructures.html#looping-techniques).\n",
    "\n",
    "  - For each stock:\n",
    "    * Calculate the daily percent change.\n",
    "    * Get the most recent price.\n",
    "    * Calculate the mean and standard deviation using the functions you created.\n",
    "    * Print the stock's name.\n",
    "    * Print the statistics that you calculated.\n",
    "    * Using `check_value` see if the stock is over or under valued.\n",
    "    * Using `compare_volatility` check if the stock is more or less volatile than the SP500\n",
    "    * Plot a box plot of the daily percent change"
   ]
  },
  {
   "cell_type": "code",
   "execution_count": null,
   "metadata": {},
   "outputs": [],
   "source": [
    "# Loop through the stocks in the dictionary and compare their performance with the sp500.\n",
    "for stock_name, dataframe in stocks_to_check.items():\n",
    "\n",
    "    # Calculate the daily percent change for each stock\n",
    "    \n",
    "\n",
    "    # Get most recent price\n",
    "    \n",
    "\n",
    "    # Calculate the mean price percent change\n",
    "    \n",
    "    \n",
    "    # Calculate the standard deviation of the percent change\n",
    "    \n",
    "    \n",
    "    # Print the stock name and calculated statistics\n",
    "    \n",
    "\n",
    "    # Using check_value, check if the stock is overvalued or not\n",
    "    \n",
    "\n",
    "    # Compare the stock's volatility with the market\n",
    "    "
   ]
  }
 ],
 "metadata": {
  "kernelspec": {
   "display_name": "Python 3",
   "language": "python",
   "name": "python3"
  },
  "language_info": {
   "codemirror_mode": {
    "name": "ipython",
    "version": 3
   },
   "file_extension": ".py",
   "mimetype": "text/x-python",
   "name": "python",
   "nbconvert_exporter": "python",
   "pygments_lexer": "ipython3",
   "version": "3.8.8"
  }
 },
 "nbformat": 4,
 "nbformat_minor": 4
}
